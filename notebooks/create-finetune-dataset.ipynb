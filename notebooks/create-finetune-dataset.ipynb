{
 "cells": [
  {
   "cell_type": "code",
   "execution_count": null,
   "metadata": {},
   "outputs": [],
   "source": [
    "%pip install openai python-dotenv"
   ]
  },
  {
   "cell_type": "code",
   "execution_count": null,
   "metadata": {},
   "outputs": [],
   "source": [
    "import dotenv\n",
    "dotenv.load_dotenv(\"../.env\", override=True)"
   ]
  },
  {
   "cell_type": "code",
   "execution_count": null,
   "metadata": {},
   "outputs": [],
   "source": [
    "from openai import OpenAI\n",
    "import os\n",
    "import random\n",
    "import csv\n",
    "\n",
    "client = OpenAI(api_key=os.environ.get(\"OPENAI_API_KEY\"))"
   ]
  },
  {
   "cell_type": "code",
   "execution_count": null,
   "metadata": {},
   "outputs": [],
   "source": [
    "def generate_input_topics():         \n",
    "    inputTopicTemplate = \"\"\"\n",
    "You are helping generate examples to fine-tune a model for a game. \n",
    "Choose a random topic, person or place. \n",
    "Reply with exactly ten 1-3 word topics, with each topic on a new line and no punctuation.\n",
    "Prioritize diverse set of topics. For example, \n",
    "\n",
    "Banana\n",
    "Elon Musk\n",
    "Zebra\n",
    "Mark Twain\n",
    "...\n",
    "    \"\"\"\n",
    "\n",
    "    response = client.chat.completions.create(\n",
    "        model=\"gpt-3.5-turbo\",\n",
    "        messages=[{\"role\": \"user\", \"content\": inputTopicTemplate}],\n",
    "    )\n",
    "    topics = response.choices[0].message.content.split(\"\\n\")\n",
    "    for i in range(len(topics)):\n",
    "        topics[i] = topics[i].strip()\n",
    "    return topics"
   ]
  },
  {
   "cell_type": "code",
   "execution_count": null,
   "metadata": {},
   "outputs": [],
   "source": [
    "\n",
    "def generate_output_topics(input_topic):\n",
    "    actions = ['broader', 'deeper', 'similar', 'opposite', 'people', 'places', 'good', 'evil', 'future', 'past']\n",
    "    action = random.choice(actions)\n",
    "    output_topic_template = \"\"\"\n",
    "You are helping generate examples to fine-tune a model for a game. \n",
    "Given an action, choose a random, specific topic and generate 3 new topics for the given action. \n",
    "Avoid choosing general topics or using unnececssary adjectives.  \n",
    "Reply with exactly 10 new topics separated by commas.\n",
    "\n",
    "If the action is \"people\", use specific names of peoples or groups.\n",
    "\n",
    "Here are some examples: \n",
    "\n",
    "Input: Action: Broader, Topic: The Game of Thrones\n",
    "Output: Fantasy, George R. R. Martin, HBO, Novels\n",
    "\n",
    "Input: Action: Opposite, Topic: Dancing\n",
    "Output: Stillness, Sleeping, Inactivity\n",
    "\n",
    "Here is the input:\n",
    "Action: {action}\n",
    "Topic: {topic}\n",
    "Output:\n",
    "    \"\"\"\n",
    "\n",
    "    output_topic_prompt = output_topic_template.format(action=action, topic=input_topic)\n",
    "    response = client.chat.completions.create(\n",
    "        model=\"gpt-3.5-turbo\",\n",
    "        messages=[{\"role\": \"user\", \"content\": output_topic_prompt}],\n",
    "    )\n",
    "\n",
    "    topics = response.choices[0].message.content.split(\",\")\n",
    "    for i in range(len(topics)):\n",
    "        topics[i] = topics[i].strip()\n",
    "    return (action, input_topic, topics)\n"
   ]
  },
  {
   "cell_type": "code",
   "execution_count": null,
   "metadata": {},
   "outputs": [],
   "source": [
    "seen_topics = set()\n",
    "all_examples = []\n",
    "\n",
    "for round in range(50):\n",
    "    print(f\"Round {round + 1}/50\")\n",
    "    input_topics = generate_input_topics()\n",
    "    \n",
    "    # Filter out duplicates\n",
    "    new_topics = [topic for topic in input_topics if topic not in seen_topics]\n",
    "    seen_topics.update(new_topics)\n",
    "    \n",
    "    # Generate examples for new topics\n",
    "    for input_topic in new_topics:\n",
    "        example = generate_output_topics(input_topic)\n",
    "        all_examples.append(example)\n",
    "        print(example)\n",
    "    \n",
    "    version = 0\n",
    "    with open(f'../data/finetune_examples_v{version}.csv', 'w', newline='') as f:\n",
    "        writer = csv.writer(f)\n",
    "        writer.writerow(['Action', 'Input Topic', 'Output Topics'])\n",
    "        for ex in all_examples:\n",
    "            writer.writerow([ex[0], ex[1], ','.join(ex[2])])"
   ]
  },
  {
   "cell_type": "code",
   "execution_count": null,
   "metadata": {},
   "outputs": [],
   "source": []
  }
 ],
 "metadata": {
  "kernelspec": {
   "display_name": "finetune",
   "language": "python",
   "name": "python3"
  },
  "language_info": {
   "codemirror_mode": {
    "name": "ipython",
    "version": 3
   },
   "file_extension": ".py",
   "mimetype": "text/x-python",
   "name": "python",
   "nbconvert_exporter": "python",
   "pygments_lexer": "ipython3",
   "version": "3.11.11"
  }
 },
 "nbformat": 4,
 "nbformat_minor": 2
}
