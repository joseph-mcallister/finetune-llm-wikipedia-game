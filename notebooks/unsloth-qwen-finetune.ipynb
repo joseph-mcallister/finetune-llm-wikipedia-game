{
 "cells": [
  {
   "cell_type": "markdown",
   "metadata": {
    "id": "-Y-__DkMUd72"
   },
   "source": [
    "To run this, press \"*Runtime*\" and press \"*Run all*\" on a **free** Tesla T4 Google Colab instance!\n",
    "<div class=\"align-center\">\n",
    "<a href=\"https://unsloth.ai/\"><img src=\"https://github.com/unslothai/unsloth/raw/main/images/unsloth%20new%20logo.png\" width=\"115\"></a>\n",
    "<a href=\"https://discord.gg/unsloth\"><img src=\"https://github.com/unslothai/unsloth/raw/main/images/Discord button.png\" width=\"145\"></a>\n",
    "<a href=\"https://docs.unsloth.ai/\"><img src=\"https://github.com/unslothai/unsloth/blob/main/images/documentation%20green%20button.png?raw=true\" width=\"125\"></a></a> Join Discord if you need help + ⭐ <i>Star us on <a href=\"https://github.com/unslothai/unsloth\">Github</a> </i> ⭐\n",
    "</div>\n",
    "\n",
    "To install Unsloth on your own computer, follow the installation instructions on our Github page [here](https://docs.unsloth.ai/get-started/installing-+-updating).\n",
    "\n",
    "You will learn how to do [data prep](#Data), how to [train](#Train), how to [run the model](#Inference), & [how to save it](#Save)\n"
   ]
  },
  {
   "cell_type": "markdown",
   "metadata": {
    "id": "n5J1ArgYUd73"
   },
   "source": [
    "### News"
   ]
  },
  {
   "cell_type": "markdown",
   "metadata": {
    "id": "lZ9RuflBUd73"
   },
   "source": [
    "**Read our [Gemma 3 blog](https://unsloth.ai/blog/gemma3) for what's new in Unsloth and our [Reasoning blog](https://unsloth.ai/blog/r1-reasoning) on how to train reasoning models.**\n",
    "\n",
    "Visit our docs for all our [model uploads](https://docs.unsloth.ai/get-started/all-our-models) and [notebooks](https://docs.unsloth.ai/get-started/unsloth-notebooks).\n"
   ]
  },
  {
   "cell_type": "markdown",
   "metadata": {
    "id": "AR5OD2LxUd73"
   },
   "source": [
    "### Installation"
   ]
  },
  {
   "cell_type": "code",
   "execution_count": null,
   "metadata": {
    "id": "8YDaPGEYUd73"
   },
   "outputs": [],
   "source": [
    "import os\n",
    "if \"COLAB_\" not in \"\".join(os.environ.keys()):\n",
    "    %pip install unsloth\n",
    "else:\n",
    "    # Do this only in Colab notebooks! Otherwise use pip install unsloth\n",
    "    %pip install --no-deps bitsandbytes accelerate xformers==0.0.29.post3 peft trl triton cut_cross_entropy unsloth_zoo\n",
    "    %pip install sentencepiece protobuf datasets huggingface_hub hf_transfer\n",
    "    %pip install --no-deps unsloth"
   ]
  },
  {
   "cell_type": "markdown",
   "metadata": {
    "id": "_jdDH_WYUd73"
   },
   "source": [
    "### Unsloth"
   ]
  },
  {
   "cell_type": "code",
   "execution_count": null,
   "metadata": {
    "colab": {
     "base_uri": "https://localhost:8080/",
     "height": 544,
     "referenced_widgets": [
      "2ffb664f4cc94eaabdefcc2778f8060a",
      "94ab0f6e8f654121aaa1685b1e526d8d",
      "6158d01922ca4b999989369dc5901dbd",
      "e095ffbf61754944b1e432a38a77241b",
      "1dd621a66c58490596d95371da13be63",
      "14f71e50c69c4499a0c5a7c6bd3feb35",
      "6bfe62fbe0df4a8ca7ea83cd43e4bbc9",
      "4d110cafd0fc4708be2d1e5fa324f6a3",
      "28663294a7f64b698d9b5afcc890ca63",
      "3bcabd1791a5490297d785d8c14ed5c4",
      "cae6d8bfb693434eacb0fb580c997aa6",
      "ac738b8417c3457facd60fceba916651",
      "543c713342294ccfaaa8ac4cc0d7b9ea",
      "60344862b7ef4afbbbf442e1702c1174",
      "37946d747afa48b3ab0e57bc9bb803ff",
      "6f86fd33c5e648c3b1e866cb9733e859",
      "df68088159054b8fb33d12985816c174",
      "14b5768ee8434085a59f1c96291d7ee1",
      "552bcb664de946d09750eac2301843d0",
      "939ef396ba124deeb487ec688e9b405b",
      "c2e30fcec5b54710bf82fc5f2866125c",
      "ffcb3ecded52490ab0c718af0803dc4e",
      "bb07ae9ce23c4e648b303447748fa383",
      "8544c3fc19fc4f4f9528b4f98356cc6d",
      "b09e9f5413fa402986eb59a35126ca2e",
      "a1da3074d97b4a4391409ef298a0db37",
      "812b72a4a251478097a65627135cfe76",
      "a16940c99cbb4875a13704cb527a101e",
      "3d0f94f07dce4806ad4e299dbac3298b",
      "4e5fe3b9af8643b0b0918b940143ce98",
      "a0cf743397ca4489ac1c846a4ef8d0cd",
      "b820454d4c0c440e83a2b57353eff382",
      "ebd1ce73948a45ecbc0007dd25a8c8f9",
      "b9ec29c5ac0a4583a92f85336cd0af34",
      "13f031e2f4ea461b94d6886d8d8bccdf",
      "2a16ef27b3c841c395769f5a7dafc719",
      "b751e2c2987e41bbabc3b872d24e9efb",
      "0264ab38c6ad4ed6bb1bba3f86d8ed43",
      "eac8e49d8bb04acf819a4c71aa448866",
      "def6b5fffe8d4ca69366529c614df1c9",
      "dd9f3dc3b8b24d93b15bf6686afeb45a",
      "8cf4f7188a9949e18ca5fe7dd7b29427",
      "5a2690be9ae444db8939d0eeb298af9e",
      "f672d188882d4e94b1e4647e60db5a09",
      "c25f51c4387c4e239e2952731011ed40",
      "bc583ff39db240e8961bd05bb218b851",
      "92195954aba648a29746391497e3b855",
      "7ee0d4d26fea4d9cbd435b0817d7324c",
      "e8b8d64b3d8e47228b099ba3095b2696",
      "a4a2734d7a7240b990270e685b0df10a",
      "5472c7cbd74d43f795fca650da2cc19b",
      "c6530ea092a34753a8a228529fc6d2b1",
      "fac4bf65a9ab4719a64fcd9b5f7b9ef3",
      "76003bccaaa34d4abd2e516a6cd3362f",
      "7131a457d51e4b3fa5337f2279f18886",
      "338682cd8a9a455ca7e2d139388e47bd",
      "1da12e9bf2fa4218bbca2ffe47b50766",
      "7fbc14c28b3d4ca789e0429664338ccd",
      "9027f63c08d24dd3af9aa71038d8f0ba",
      "b11124231dac41f1a01da1f47991c7cb",
      "c3171cc46b344768a13bb9dedd67cc75",
      "aa850eb305834984bfe6cd3cbe5a35d9",
      "3dd92ca6ecbe4e738938db92f178fe8e",
      "a69fa82693bc4ae98d52cdf02ca8ac3d",
      "a587d1961b0c4321b36eb5eb7228ecb4",
      "8af0d2fe18784dab809d029dab964efa",
      "a573e7c1a410406d80991587eaa9f37e",
      "ce74764c2a84491694913286fbf2ab13",
      "a48595c58f754264a4cae28fa93de809",
      "64567e31203447c3a89b7e6b0bbd4c95",
      "ee12988a9618428e8ca707fa811cbd92",
      "127d33a346014869ad96f79ee8902b5c",
      "eea06e612da9482f96cc57dce0addd6d",
      "b91b4b0d5e3f445fbf23f00a97dc03a5",
      "fe57d8f6f27346199511641df64c0132",
      "0b5d8ae0345048fcbb519d9501053311",
      "13459c68e53b409aadfba2dd4ca38357",
      "4313382cd09f4ab8a83363d7295155b2",
      "e81737506cc8447a96feaf20129a1c24",
      "796683a2fad941b3b26dac8335d8da27",
      "438e9123c7964265be7b9b097b810ced",
      "ad86f1ca4213423891143beafeffbffd",
      "30f3f0f267dc44d18eebd67ab0936ea3",
      "200b1b38541648c199dea36ec90771a6",
      "c047cf8cf49c490eb283c152f5658fbe",
      "2fc5963e9bb4475eaed559b1f80ed550",
      "899269977908477583c70a137d134262",
      "c7cffeee6db14e2b87bfd6d8cf834067",
      "7c38fe2fde6847d38d393f18426cf2a9",
      "6e3b1fb46e834ad3929da636571f99f1",
      "ef129f3918cd49efb2e8fcc0f7cc0b6b",
      "159829d39d0346e09e7bc1d3e5a60199",
      "09855a1da46f4a3fa6c4d9dd791e7bc2",
      "1432c9f8407148a1991245d9e26b9415",
      "107f9ab2ba764efc8e893594a6785e49",
      "70def416cfb740b7a92b78892ffb6ea8",
      "f6b72bde546040eeaecaa01a8332fc73",
      "696e330eff5543b4bd12d8f5182b44ad",
      "030e0522ab9145e0babff4a743780e83",
      "b69ece2580104c64a966f5836b04757d",
      "749367c7cc89432f8ad7fd71721b90db",
      "0215f9900e6645fd868b26320d000af9",
      "e8fedcc3275847e0922085f78ebbf72e",
      "7878f30685674c68bee7bda5e0ba81ce",
      "852d1bc276ea42c59d27a061508182de",
      "ad120a1adb454b9994c90ff040f55175",
      "a5a690578c43453ea0c89ffdb98113f2",
      "27c667cd0f4744a49b0c1efae6a5b7f8",
      "b30a83da5cb4429e83d3d731db8511a9",
      "4d0fedfd991b4a2488fa074c962ba1e0",
      "9ba93c797737447eb1e8b5db5ffc6a0e",
      "c976f872e9e94c94b84e88d46a621234",
      "3c2451f6fbe44ecdbca80b32ff002157",
      "20e2e9c2bed047b783619a67d7233572",
      "c5cc980ca1a14054bca9c21d40810369",
      "08ae1ffe5f454223bdf9ad0ed862474b",
      "3a97b55b228f48a2869fdb0724efe6b3",
      "733791e4faf748abbe2e06110c8e2cf9",
      "1e233c94a1334072928b53a7f01b403f",
      "baede4e0c956481ca0e9db9ae57f5da0",
      "3b2f7e93c1e14b62b700650921407b0f",
      "a4572b95714f48e58a688d5dae5e8938",
      "68cbbbd02c8d407381ea91a05de72912",
      "f1285f8b776a4c4490be1f5cc9d20ad5",
      "f5ea8be95ddc436faa7ff1eaa17e20ca",
      "2ec48c5334364a7e83526743102729fa",
      "5e2ae64211e544c68df3d5c1b3e052a7",
      "c40d073d24dd437c9d32950de40366f1",
      "903381aef7994e1bb2e4198ec4bab725",
      "fec9be26c7404e4c88dbbd3c18b67dfb",
      "4ffb9a4023cd46c592607688f7b10386",
      "20573cc8eeb14a81875a5ade1e26b85b"
     ]
    },
    "id": "QmUBVEnvCDJv",
    "outputId": "f1c86a76-ca8c-4056-ecd7-f1136bc813a1"
   },
   "outputs": [],
   "source": [
    "from unsloth import FastLanguageModel\n",
    "import torch\n",
    "max_seq_length = 2048 # Choose any! We auto support RoPE Scaling internally!\n",
    "dtype = None # None for auto detection. Float16 for Tesla T4, V100, Bfloat16 for Ampere+\n",
    "load_in_4bit = True # Use 4bit quantization to reduce memory usage. Can be False.\n",
    "\n",
    "model, tokenizer = FastLanguageModel.from_pretrained(\n",
    "    model_name = \"unsloth/Qwen2.5-0.5B\",\n",
    "    max_seq_length = max_seq_length,\n",
    "    dtype = dtype,\n",
    "    load_in_4bit = load_in_4bit,\n",
    ")"
   ]
  },
  {
   "cell_type": "markdown",
   "metadata": {
    "id": "SXd9bTZd1aaL"
   },
   "source": [
    "We now add LoRA adapters so we only need to update 1 to 10% of all parameters!"
   ]
  },
  {
   "cell_type": "code",
   "execution_count": null,
   "metadata": {
    "colab": {
     "base_uri": "https://localhost:8080/"
    },
    "id": "6bZsfBuZDeCL",
    "outputId": "582000f6-4c0a-4932-816d-b1e26979550e"
   },
   "outputs": [],
   "source": [
    "model = FastLanguageModel.get_peft_model(\n",
    "    model,\n",
    "    r = 16, # Choose any number > 0 ! Suggested 8, 16, 32, 64, 128\n",
    "    target_modules = [\"q_proj\", \"k_proj\", \"v_proj\", \"o_proj\",\n",
    "                      \"gate_proj\", \"up_proj\", \"down_proj\",],\n",
    "    lora_alpha = 16,\n",
    "    lora_dropout = 0, # Supports any, but = 0 is optimized\n",
    "    bias = \"none\",    # Supports any, but = \"none\" is optimized\n",
    "    # [NEW] \"unsloth\" uses 30% less VRAM, fits 2x larger batch sizes!\n",
    "    use_gradient_checkpointing = \"unsloth\", # True or \"unsloth\" for very long context\n",
    "    random_state = 3407,\n",
    "    use_rslora = False,  # We support rank stabilized LoRA\n",
    "    loftq_config = None, # And LoftQ\n",
    ")"
   ]
  },
  {
   "cell_type": "markdown",
   "metadata": {
    "id": "vITh0KVJ10qX"
   },
   "source": [
    "<a name=\"Data\"></a>\n",
    "### Data Prep\n",
    "We now use the Alpaca dataset from [yahma](https://huggingface.co/datasets/yahma/alpaca-cleaned), which is a filtered version of 52K of the original [Alpaca dataset](https://crfm.stanford.edu/2023/03/13/alpaca.html). You can replace this code section with your own data prep.\n",
    "\n",
    "**[NOTE]** To train only on completions (ignoring the user's input) read TRL's docs [here](https://huggingface.co/docs/trl/sft_trainer#train-on-completions-only).\n",
    "\n",
    "**[NOTE]** Remember to add the **EOS_TOKEN** to the tokenized output!! Otherwise you'll get infinite generations!\n",
    "\n",
    "If you want to use the `llama-3` template for ShareGPT datasets, try our conversational [notebook](https://colab.research.google.com/github/unslothai/notebooks/blob/main/nb/Llama3_(8B)-Alpaca.ipynb)\n",
    "\n",
    "For text completions like novel writing, try this [notebook](https://colab.research.google.com/github/unslothai/notebooks/blob/main/nb/Mistral_(7B)-Text_Completion.ipynb)."
   ]
  },
  {
   "cell_type": "code",
   "execution_count": null,
   "metadata": {
    "colab": {
     "base_uri": "https://localhost:8080/",
     "height": 145,
     "referenced_widgets": [
      "8af8c8c303f949318b5b20c1d163ed9e",
      "584fad2f16974462a6a84de1a0efc6a8",
      "68013999e48549298460c6190c8ad1dc",
      "952293961cc94e8c8b228035149b714f",
      "9cbb837bf53443ae80bc29997594e935",
      "9c2c453cdc7945c2bf2dc6512342b250",
      "7f14df70d532423890a798319eead6e2",
      "0a045f36291a4964b4dd18d6a8f5700a",
      "f8f79c9527864360b72268c9f99ef11a",
      "86f2a6c9f8494cd3be3d58383f07d74b",
      "281d661d4bef4853b9410f747d211215",
      "be26bf1a874b4ec5ad74fdddae725f36",
      "6837a473054a4391b86a5d328960d6e1",
      "2a65068113b24e3eb57dc60034ba2dc9",
      "53e08653e41540c0837ee9617dd124cc",
      "38ad31e6728c442ebdda16bd56dff403",
      "af9ebff365a445d790d62f63489a2134",
      "afe3b47028d34d178887b0c2143a8793",
      "0ae75477b65b40da8915f14efef89049",
      "38f95cfc104a49c2972b1a3bbf10e7ef",
      "ae5f656036a84e27bf2f88a4e320061d",
      "c5862bd3212c4301821a280d11dbe51e",
      "19b95c2465bc4bc2acfeb311cb9491f3",
      "95b74e7e4b9f4f44bc69c42971a615cc",
      "491a9745ca8447858523358e8235586a",
      "213520ed1d184a08b72754636b065aca",
      "e59165ea857b4afb85f671894a144e3e",
      "3191e09d7aff4bb5a2ca7a0a707efe3f",
      "3d65d6cbdaa04d7299ab6334969eb501",
      "dff4d2342b354653b4315b51d6cdba7c",
      "b0883a6a93cc4983a25e4b3932a2b0e9",
      "d746d02e15184051bfb2cf6328393f14",
      "cf79afa4ee8e4c65a1f84ed0ced082c1",
      "c7334ad3dbea46a589b9682a9d277ac6",
      "4374cbc0f3df46bf9840d7ff62100ffe",
      "c519c82bf2bf4c4a9291204cdbae1055",
      "c0fdd4201f4f486dbe1880f9bd2b0695",
      "c9a66a410df34225ae15055b8f4ea8ef",
      "358aa7fdcdb847c2a16e6b388e63bcf2",
      "190ecb4756d44ec18af7afc6cfa67be3",
      "a85eed18328e4f4b88448c64156d25d5",
      "011342c9cf454c3d880549016f5d6aed",
      "24b782f2573f42ef81ea150ef980af83",
      "8887b7d757f847bbb941448885f1d295"
     ]
    },
    "id": "LjY75GoYUCB8",
    "outputId": "64050a88-5517-4b66-dd47-fc178ae7a388"
   },
   "outputs": [],
   "source": [
    "alpaca_prompt = \"\"\"Below is an instruction that describes a task, paired with an input that provides further context. Write a response that appropriately completes the request.\n",
    "\n",
    "### Instruction:\n",
    "{}\n",
    "\n",
    "### Input:\n",
    "{}\n",
    "\n",
    "### Response:\n",
    "{}\"\"\"\n",
    "\n",
    "EOS_TOKEN = tokenizer.eos_token # Must add EOS_TOKEN\n",
    "def formatting_prompts_func(examples):\n",
    "    instructions = examples[\"instruction\"]\n",
    "    inputs       = examples[\"input\"]\n",
    "    outputs      = examples[\"output\"]\n",
    "    texts = []\n",
    "    for instruction, input, output in zip(instructions, inputs, outputs):\n",
    "        # Must add EOS_TOKEN, otherwise your generation will go on forever!\n",
    "        text = alpaca_prompt.format(instruction, input, output) + EOS_TOKEN\n",
    "        texts.append(text)\n",
    "    return { \"text\" : texts, }\n",
    "pass\n",
    "\n",
    "from datasets import load_dataset\n",
    "dataset = load_dataset(\"yahma/alpaca-cleaned\", split = \"train\")\n",
    "dataset = dataset.map(formatting_prompts_func, batched = True,)"
   ]
  },
  {
   "cell_type": "markdown",
   "metadata": {
    "id": "idAEIeSQ3xdS"
   },
   "source": [
    "<a name=\"Train\"></a>\n",
    "### Train the model\n",
    "Now let's use Huggingface TRL's `SFTTrainer`! More docs here: [TRL SFT docs](https://huggingface.co/docs/trl/sft_trainer). We do 60 steps to speed things up, but you can set `num_train_epochs=1` for a full run, and turn off `max_steps=None`. We also support TRL's `DPOTrainer`!"
   ]
  },
  {
   "cell_type": "code",
   "execution_count": null,
   "metadata": {
    "colab": {
     "base_uri": "https://localhost:8080/",
     "height": 145,
     "referenced_widgets": [
      "5de8ef5863dd42c9bb5f29b9b6b7bed2",
      "a917d1ad0e954111a7bfd4181dc28386",
      "6d64ddb8e8064e8ba635a3d05727da48",
      "ce2de81db24944bf8492650e030c296b",
      "83191b1a2ea5458888b3359423b3ac4e",
      "3aa2a157bd6d43239b442756db9fdc26",
      "a5869133bfee4742a2eb50fe6aa070a6",
      "463febfcb755491e972f561c7381c60f",
      "9ea717d3cffa49fa968d5d7122a96327",
      "c566e53256e24229b7b3778dc627a0c3",
      "e519a715001444b2ba1ae48b12f00bb1",
      "19665589e86a41cebff4c6092dea9da4",
      "9d73ab40d73b424d91b2af5f1fb66288",
      "2943006158ea4d84af76dca0528137b0",
      "3e071489edf64373b6cf98adfdc24d20",
      "9b7924075e384ab7815e41b1c3cc38f4",
      "4576e8e1659d4a8993cf55d53a187bab",
      "673de1fa6e404e12a30692e99bb41b39",
      "5e95453be71546cb867211d97960f53e",
      "93975253df9e400bbdb249a3a768f40b",
      "5a00f5048ddc49e2ad998eb4c70ceec1",
      "b98a99c9e55f490a8666f480ff170f55",
      "d3f1af628dbe448e967a2707bba0865c",
      "d168052d2bb14be3a2d47ba09fb36c3e",
      "a553033b78ca4e4093004b014763e76c",
      "6a8eff3bb4164de18934ead6c5cc2f6e",
      "8090a5b79e2649eba1033a787a7e0b1e",
      "b54f2ba1f8f64019a5503ab02dfc2784",
      "b6bff295fd2e4048974e70c68febb1f6",
      "e7676f10c1ae41a6b6091cc1dd3a9d7f",
      "672c1fecf0814f639107bd13947fe5c8",
      "bee47b0e04aa4b649d370851478d5b8a",
      "6b12dff29e07450e9f064142842115e6",
      "f979c85b02b948298d1de47f9127d8fd",
      "1ba70f8a5fce450abf206d2dc4a3d1c9",
      "a4fca58037844487bc079f0daf281fd3",
      "8243271176004de4918c4fe3ee4c2554",
      "ce85e95b067b47d0a8537614addd3e9d",
      "c0ea75e0b5a24419886b7a4d3dd93cbb",
      "821e5aade7de43c494fdc216020d8aec",
      "d7e6100ad25649bf9c2a8c101826bce9",
      "5c225c767a7d4d06b2d0b135189af750",
      "c68818c1a2cb4291b279a2adee8911b3",
      "8b7c3d65d5814cd28c22aeb541d02454"
     ]
    },
    "id": "95_Nn-89DhsL",
    "outputId": "494cc39d-96c1-48fb-b2ab-ea9b0e7033bf"
   },
   "outputs": [],
   "source": [
    "from trl import SFTTrainer\n",
    "from transformers import TrainingArguments\n",
    "from unsloth import is_bfloat16_supported\n",
    "\n",
    "trainer = SFTTrainer(\n",
    "    model = model,\n",
    "    tokenizer = tokenizer,\n",
    "    train_dataset = dataset,\n",
    "    dataset_text_field = \"text\",\n",
    "    max_seq_length = max_seq_length,\n",
    "    dataset_num_proc = 2,\n",
    "    packing = False, # Can make training 5x faster for short sequences.\n",
    "    args = TrainingArguments(\n",
    "        per_device_train_batch_size = 2,\n",
    "        gradient_accumulation_steps = 4,\n",
    "        warmup_steps = 5,\n",
    "        # num_train_epochs = 1, # Set this for 1 full training run.\n",
    "        max_steps = 60,\n",
    "        learning_rate = 2e-4,\n",
    "        fp16 = not is_bfloat16_supported(),\n",
    "        bf16 = is_bfloat16_supported(),\n",
    "        logging_steps = 1,\n",
    "        optim = \"adamw_8bit\",\n",
    "        weight_decay = 0.01,\n",
    "        lr_scheduler_type = \"linear\",\n",
    "        seed = 3407,\n",
    "        output_dir = \"outputs\",\n",
    "        report_to = \"none\", # Use this for WandB etc\n",
    "    ),\n",
    ")"
   ]
  },
  {
   "cell_type": "code",
   "execution_count": null,
   "metadata": {
    "cellView": "form",
    "colab": {
     "base_uri": "https://localhost:8080/"
    },
    "id": "2ejIt2xSNKKp",
    "outputId": "794e68c9-8dcf-4970-903b-00feb8d08f70"
   },
   "outputs": [],
   "source": [
    "# @title Show current memory stats\n",
    "gpu_stats = torch.cuda.get_device_properties(0)\n",
    "start_gpu_memory = round(torch.cuda.max_memory_reserved() / 1024 / 1024 / 1024, 3)\n",
    "max_memory = round(gpu_stats.total_memory / 1024 / 1024 / 1024, 3)\n",
    "print(f\"GPU = {gpu_stats.name}. Max memory = {max_memory} GB.\")\n",
    "print(f\"{start_gpu_memory} GB of memory reserved.\")"
   ]
  },
  {
   "cell_type": "code",
   "execution_count": null,
   "metadata": {
    "colab": {
     "base_uri": "https://localhost:8080/",
     "height": 308
    },
    "id": "yqxqAZ7KJ4oL",
    "outputId": "1122c051-df9d-4196-f838-526b2a917d30"
   },
   "outputs": [],
   "source": [
    "trainer_stats = trainer.train()"
   ]
  },
  {
   "cell_type": "code",
   "execution_count": null,
   "metadata": {
    "cellView": "form",
    "id": "pCqnaKmlO1U9"
   },
   "outputs": [],
   "source": [
    "# @title Show final memory and time stats\n",
    "used_memory = round(torch.cuda.max_memory_reserved() / 1024 / 1024 / 1024, 3)\n",
    "used_memory_for_lora = round(used_memory - start_gpu_memory, 3)\n",
    "used_percentage = round(used_memory / max_memory * 100, 3)\n",
    "lora_percentage = round(used_memory_for_lora / max_memory * 100, 3)\n",
    "print(f\"{trainer_stats.metrics['train_runtime']} seconds used for training.\")\n",
    "print(\n",
    "    f\"{round(trainer_stats.metrics['train_runtime']/60, 2)} minutes used for training.\"\n",
    ")\n",
    "print(f\"Peak reserved memory = {used_memory} GB.\")\n",
    "print(f\"Peak reserved memory for training = {used_memory_for_lora} GB.\")\n",
    "print(f\"Peak reserved memory % of max memory = {used_percentage} %.\")\n",
    "print(f\"Peak reserved memory for training % of max memory = {lora_percentage} %.\")"
   ]
  },
  {
   "cell_type": "markdown",
   "metadata": {
    "id": "ekOmTR1hSNcr"
   },
   "source": [
    "<a name=\"Inference\"></a>\n",
    "### Inference\n",
    "Let's run the model! You can change the instruction and input - leave the output blank!\n",
    "\n",
    "**[NEW] Try 2x faster inference in a free Colab for Llama-3.1 8b Instruct [here](https://colab.research.google.com/github/unslothai/notebooks/blob/main/nb/Unsloth_Studio.ipynb)**"
   ]
  },
  {
   "cell_type": "code",
   "execution_count": null,
   "metadata": {
    "id": "kR3gIAX-SM2q"
   },
   "outputs": [],
   "source": [
    "# alpaca_prompt = Copied from above\n",
    "FastLanguageModel.for_inference(model) # Enable native 2x faster inference\n",
    "inputs = tokenizer(\n",
    "[\n",
    "    alpaca_prompt.format(\n",
    "        \"Continue the fibonnaci sequence.\", # instruction\n",
    "        \"1, 1, 2, 3, 5, 8\", # input\n",
    "        \"\", # output - leave this blank for generation!\n",
    "    )\n",
    "], return_tensors = \"pt\").to(\"cuda\")\n",
    "\n",
    "outputs = model.generate(**inputs, max_new_tokens = 64, use_cache = True)\n",
    "tokenizer.batch_decode(outputs)"
   ]
  },
  {
   "cell_type": "markdown",
   "metadata": {
    "id": "CrSvZObor0lY"
   },
   "source": [
    " You can also use a `TextStreamer` for continuous inference - so you can see the generation token by token, instead of waiting the whole time!"
   ]
  },
  {
   "cell_type": "code",
   "execution_count": null,
   "metadata": {
    "id": "e2pEuRb1r2Vg"
   },
   "outputs": [],
   "source": [
    "# alpaca_prompt = Copied from above\n",
    "FastLanguageModel.for_inference(model) # Enable native 2x faster inference\n",
    "inputs = tokenizer(\n",
    "[\n",
    "    alpaca_prompt.format(\n",
    "        \"Continue the fibonnaci sequence.\", # instruction\n",
    "        \"1, 1, 2, 3, 5, 8\", # input\n",
    "        \"\", # output - leave this blank for generation!\n",
    "    )\n",
    "], return_tensors = \"pt\").to(\"cuda\")\n",
    "\n",
    "from transformers import TextStreamer\n",
    "text_streamer = TextStreamer(tokenizer)\n",
    "_ = model.generate(**inputs, streamer = text_streamer, max_new_tokens = 128)"
   ]
  },
  {
   "cell_type": "markdown",
   "metadata": {
    "id": "uMuVrWbjAzhc"
   },
   "source": [
    "<a name=\"Save\"></a>\n",
    "### Saving, loading finetuned models\n",
    "To save the final model as LoRA adapters, either use Huggingface's `push_to_hub` for an online save or `save_pretrained` for a local save.\n",
    "\n",
    "**[NOTE]** This ONLY saves the LoRA adapters, and not the full model. To save to 16bit or GGUF, scroll down!"
   ]
  },
  {
   "cell_type": "code",
   "execution_count": null,
   "metadata": {
    "id": "upcOlWe7A1vc"
   },
   "outputs": [],
   "source": [
    "model.save_pretrained(\"lora_model\")  # Local saving\n",
    "tokenizer.save_pretrained(\"lora_model\")\n",
    "# model.push_to_hub(\"your_name/lora_model\", token = \"...\") # Online saving\n",
    "# tokenizer.push_to_hub(\"your_name/lora_model\", token = \"...\") # Online saving"
   ]
  },
  {
   "cell_type": "markdown",
   "metadata": {
    "id": "AEEcJ4qfC7Lp"
   },
   "source": [
    "Now if you want to load the LoRA adapters we just saved for inference, set `False` to `True`:"
   ]
  },
  {
   "cell_type": "code",
   "execution_count": null,
   "metadata": {
    "id": "MKX_XKs_BNZR"
   },
   "outputs": [],
   "source": [
    "if False:\n",
    "    from unsloth import FastLanguageModel\n",
    "    model, tokenizer = FastLanguageModel.from_pretrained(\n",
    "        model_name = \"lora_model\", # YOUR MODEL YOU USED FOR TRAINING\n",
    "        max_seq_length = max_seq_length,\n",
    "        dtype = dtype,\n",
    "        load_in_4bit = load_in_4bit,\n",
    "    )\n",
    "    FastLanguageModel.for_inference(model) # Enable native 2x faster inference\n",
    "\n",
    "# alpaca_prompt = You MUST copy from above!\n",
    "\n",
    "inputs = tokenizer(\n",
    "[\n",
    "    alpaca_prompt.format(\n",
    "        \"What is a famous tall tower in Paris?\", # instruction\n",
    "        \"\", # input\n",
    "        \"\", # output - leave this blank for generation!\n",
    "    )\n",
    "], return_tensors = \"pt\").to(\"cuda\")\n",
    "\n",
    "from transformers import TextStreamer\n",
    "text_streamer = TextStreamer(tokenizer)\n",
    "_ = model.generate(**inputs, streamer = text_streamer, max_new_tokens = 128)"
   ]
  },
  {
   "cell_type": "markdown",
   "metadata": {
    "id": "QQMjaNrjsU5_"
   },
   "source": [
    "You can also use Hugging Face's `AutoModelForPeftCausalLM`. Only use this if you do not have `unsloth` installed. It can be hopelessly slow, since `4bit` model downloading is not supported, and Unsloth's **inference is 2x faster**."
   ]
  },
  {
   "cell_type": "code",
   "execution_count": null,
   "metadata": {
    "id": "yFfaXG0WsQuE"
   },
   "outputs": [],
   "source": [
    "if False:\n",
    "    # I highly do NOT suggest - use Unsloth if possible\n",
    "    from peft import AutoPeftModelForCausalLM\n",
    "    from transformers import AutoTokenizer\n",
    "    model = AutoPeftModelForCausalLM.from_pretrained(\n",
    "        \"lora_model\", # YOUR MODEL YOU USED FOR TRAINING\n",
    "        load_in_4bit = load_in_4bit,\n",
    "    )\n",
    "    tokenizer = AutoTokenizer.from_pretrained(\"lora_model\")"
   ]
  },
  {
   "cell_type": "markdown",
   "metadata": {
    "id": "f422JgM9sdVT"
   },
   "source": [
    "### Saving to float16 for VLLM\n",
    "\n",
    "We also support saving to `float16` directly. Select `merged_16bit` for float16 or `merged_4bit` for int4. We also allow `lora` adapters as a fallback. Use `push_to_hub_merged` to upload to your Hugging Face account! You can go to https://huggingface.co/settings/tokens for your personal tokens."
   ]
  },
  {
   "cell_type": "code",
   "execution_count": null,
   "metadata": {
    "id": "iHjt_SMYsd3P"
   },
   "outputs": [],
   "source": [
    "# Merge to 16bit\n",
    "if False: model.save_pretrained_merged(\"model\", tokenizer, save_method = \"merged_16bit\",)\n",
    "if False: model.push_to_hub_merged(\"hf/model\", tokenizer, save_method = \"merged_16bit\", token = \"\")\n",
    "\n",
    "# Merge to 4bit\n",
    "if False: model.save_pretrained_merged(\"model\", tokenizer, save_method = \"merged_4bit\",)\n",
    "if False: model.push_to_hub_merged(\"hf/model\", tokenizer, save_method = \"merged_4bit\", token = \"\")\n",
    "\n",
    "# Just LoRA adapters\n",
    "if False: model.save_pretrained_merged(\"model\", tokenizer, save_method = \"lora\",)\n",
    "if False: model.push_to_hub_merged(\"hf/model\", tokenizer, save_method = \"lora\", token = \"\")"
   ]
  },
  {
   "cell_type": "markdown",
   "metadata": {
    "id": "TCv4vXHd61i7"
   },
   "source": [
    "### GGUF / llama.cpp Conversion\n",
    "To save to `GGUF` / `llama.cpp`, we support it natively now! We clone `llama.cpp` and we default save it to `q8_0`. We allow all methods like `q4_k_m`. Use `save_pretrained_gguf` for local saving and `push_to_hub_gguf` for uploading to HF.\n",
    "\n",
    "Some supported quant methods (full list on our [Wiki page](https://github.com/unslothai/unsloth/wiki#gguf-quantization-options)):\n",
    "* `q8_0` - Fast conversion. High resource use, but generally acceptable.\n",
    "* `q4_k_m` - Recommended. Uses Q6_K for half of the attention.wv and feed_forward.w2 tensors, else Q4_K.\n",
    "* `q5_k_m` - Recommended. Uses Q6_K for half of the attention.wv and feed_forward.w2 tensors, else Q5_K.\n",
    "\n",
    "[**NEW**] To finetune and auto export to Ollama, try our [Ollama notebook](https://colab.research.google.com/github/unslothai/notebooks/blob/main/nb/Llama3_(8B)-Ollama.ipynb)"
   ]
  },
  {
   "cell_type": "code",
   "execution_count": null,
   "metadata": {
    "id": "FqfebeAdT073"
   },
   "outputs": [],
   "source": [
    "# Save to 8bit Q8_0\n",
    "if False: model.save_pretrained_gguf(\"model\", tokenizer,)\n",
    "# Remember to go to https://huggingface.co/settings/tokens for a token!\n",
    "# And change hf to your username!\n",
    "if False: model.push_to_hub_gguf(\"hf/model\", tokenizer, token = \"\")\n",
    "\n",
    "# Save to 16bit GGUF\n",
    "if False: model.save_pretrained_gguf(\"model\", tokenizer, quantization_method = \"f16\")\n",
    "if False: model.push_to_hub_gguf(\"hf/model\", tokenizer, quantization_method = \"f16\", token = \"\")\n",
    "\n",
    "# Save to q4_k_m GGUF\n",
    "if False: model.save_pretrained_gguf(\"model\", tokenizer, quantization_method = \"q4_k_m\")\n",
    "if False: model.push_to_hub_gguf(\"hf/model\", tokenizer, quantization_method = \"q4_k_m\", token = \"\")\n",
    "\n",
    "# Save to multiple GGUF options - much faster if you want multiple!\n",
    "if False:\n",
    "    model.push_to_hub_gguf(\n",
    "        \"hf/model\", # Change hf to your username!\n",
    "        tokenizer,\n",
    "        quantization_method = [\"q4_k_m\", \"q8_0\", \"q5_k_m\",],\n",
    "        token = \"\", # Get a token at https://huggingface.co/settings/tokens\n",
    "    )"
   ]
  },
  {
   "cell_type": "markdown",
   "metadata": {
    "id": "ENgUDKztUd75"
   },
   "source": [
    "Now, use the `model-unsloth.gguf` file or `model-unsloth-Q4_K_M.gguf` file in llama.cpp or a UI based system like Jan or Open WebUI. You can install Jan [here](https://github.com/janhq/jan) and Open WebUI [here](https://github.com/open-webui/open-webui)\n",
    "\n",
    "And we're done! If you have any questions on Unsloth, we have a [Discord](https://discord.gg/unsloth) channel! If you find any bugs or want to keep updated with the latest LLM stuff, or need help, join projects etc, feel free to join our Discord!\n",
    "\n",
    "Some other links:\n",
    "1. Train your own reasoning model - Llama GRPO notebook [Free Colab](https://colab.research.google.com/github/unslothai/notebooks/blob/main/nb/Llama3.1_(8B)-GRPO.ipynb)\n",
    "2. Saving finetunes to Ollama. [Free notebook](https://colab.research.google.com/github/unslothai/notebooks/blob/main/nb/Llama3_(8B)-Ollama.ipynb)\n",
    "3. Llama 3.2 Vision finetuning - Radiography use case. [Free Colab](https://colab.research.google.com/github/unslothai/notebooks/blob/main/nb/Llama3.2_(11B)-Vision.ipynb)\n",
    "6. See notebooks for DPO, ORPO, Continued pretraining, conversational finetuning and more on our [documentation](https://docs.unsloth.ai/get-started/unsloth-notebooks)!\n",
    "\n",
    "<div class=\"align-center\">\n",
    "  <a href=\"https://unsloth.ai\"><img src=\"https://github.com/unslothai/unsloth/raw/main/images/unsloth%20new%20logo.png\" width=\"115\"></a>\n",
    "  <a href=\"https://discord.gg/unsloth\"><img src=\"https://github.com/unslothai/unsloth/raw/main/images/Discord.png\" width=\"145\"></a>\n",
    "  <a href=\"https://docs.unsloth.ai/\"><img src=\"https://github.com/unslothai/unsloth/blob/main/images/documentation%20green%20button.png?raw=true\" width=\"125\"></a>\n",
    "\n",
    "  Join Discord if you need help + ⭐️ <i>Star us on <a href=\"https://github.com/unslothai/unsloth\">Github</a> </i> ⭐️\n",
    "</div>\n"
   ]
  }
 ],
 "metadata": {
  "accelerator": "GPU",
  "colab": {
   "gpuType": "T4",
   "provenance": [],
   "toc_visible": true
  },
  "kernelspec": {
   "display_name": "finetune",
   "language": "python",
   "name": "python3"
  },
  "language_info": {
   "codemirror_mode": {
    "name": "ipython",
    "version": 3
   },
   "file_extension": ".py",
   "mimetype": "text/x-python",
   "name": "python",
   "nbconvert_exporter": "python",
   "pygments_lexer": "ipython3",
   "version": "3.11.11"
  }
 },
 "nbformat": 4,
 "nbformat_minor": 0
}
